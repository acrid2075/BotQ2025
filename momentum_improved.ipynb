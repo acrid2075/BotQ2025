{
 "cells": [
  {
   "cell_type": "code",
   "execution_count": 1,
   "id": "ef98f935",
   "metadata": {},
   "outputs": [
    {
     "name": "stdout",
     "output_type": "stream",
     "text": [
      "2.2.3\n"
     ]
    }
   ],
   "source": [
    "import pandas as pd\n",
    "import numpy as np\n",
    "import os\n",
    "from dotenv import load_dotenv\n",
    "from finance_byu.summarize import summary\n",
    "import pyarrow\n",
    "# !pip uninstall pandas\n",
    "# !pip install pandas==2.2.3\n",
    "print(pd.__version__)\n",
    "\n",
    "load_dotenv()  # reads .env file\n",
    "SAVE_PATH = os.getenv(\"SAVE_PATH\")"
   ]
  },
  {
   "cell_type": "code",
   "execution_count": 2,
   "id": "95d4838b",
   "metadata": {},
   "outputs": [],
   "source": [
    "df = pd.read_feather(SAVE_PATH)"
   ]
  },
  {
   "cell_type": "code",
   "execution_count": 4,
   "id": "8fd998fd",
   "metadata": {},
   "outputs": [],
   "source": [
    "df['logret'] = np.log(1 + df['ret'])\n",
    "df['mom'] = df.groupby('permno')['logret'].rolling(6,6).sum().reset_index(drop=True)\n",
    "df['mom'] = df.groupby('permno')['mom'].shift(2)\n",
    "df['me'] = df['shr'] * df['prc']"
   ]
  },
  {
   "cell_type": "code",
   "execution_count": 5,
   "id": "8dd3f242",
   "metadata": {},
   "outputs": [
    {
     "ename": "KeyboardInterrupt",
     "evalue": "",
     "output_type": "error",
     "traceback": [
      "\u001b[31m---------------------------------------------------------------------------\u001b[39m",
      "\u001b[31mKeyError\u001b[39m                                  Traceback (most recent call last)",
      "\u001b[36mFile \u001b[39m\u001b[32m~/Desktop/BotQ2025/.venv/lib/python3.12/site-packages/pandas/core/indexes/base.py:3805\u001b[39m, in \u001b[36mIndex.get_loc\u001b[39m\u001b[34m(self, key)\u001b[39m\n\u001b[32m   3804\u001b[39m \u001b[38;5;28;01mtry\u001b[39;00m:\n\u001b[32m-> \u001b[39m\u001b[32m3805\u001b[39m     \u001b[38;5;28;01mreturn\u001b[39;00m \u001b[38;5;28;43mself\u001b[39;49m\u001b[43m.\u001b[49m\u001b[43m_engine\u001b[49m\u001b[43m.\u001b[49m\u001b[43mget_loc\u001b[49m\u001b[43m(\u001b[49m\u001b[43mcasted_key\u001b[49m\u001b[43m)\u001b[49m\n\u001b[32m   3806\u001b[39m \u001b[38;5;28;01mexcept\u001b[39;00m \u001b[38;5;167;01mKeyError\u001b[39;00m \u001b[38;5;28;01mas\u001b[39;00m err:\n",
      "\u001b[36mFile \u001b[39m\u001b[32mindex.pyx:167\u001b[39m, in \u001b[36mpandas._libs.index.IndexEngine.get_loc\u001b[39m\u001b[34m()\u001b[39m\n",
      "\u001b[36mFile \u001b[39m\u001b[32mindex.pyx:196\u001b[39m, in \u001b[36mpandas._libs.index.IndexEngine.get_loc\u001b[39m\u001b[34m()\u001b[39m\n",
      "\u001b[36mFile \u001b[39m\u001b[32mpandas/_libs/hashtable_class_helper.pxi:7081\u001b[39m, in \u001b[36mpandas._libs.hashtable.PyObjectHashTable.get_item\u001b[39m\u001b[34m()\u001b[39m\n",
      "\u001b[36mFile \u001b[39m\u001b[32mpandas/_libs/hashtable_class_helper.pxi:7089\u001b[39m, in \u001b[36mpandas._libs.hashtable.PyObjectHashTable.get_item\u001b[39m\u001b[34m()\u001b[39m\n",
      "\u001b[31mKeyError\u001b[39m: 'prclag'",
      "\nDuring handling of the above exception, another exception occurred:\n",
      "\u001b[31mKeyboardInterrupt\u001b[39m                         Traceback (most recent call last)",
      "\u001b[36mCell\u001b[39m\u001b[36m \u001b[39m\u001b[32mIn[5]\u001b[39m\u001b[32m, line 1\u001b[39m\n\u001b[32m----> \u001b[39m\u001b[32m1\u001b[39m \u001b[43mdf\u001b[49m\u001b[43m[\u001b[49m\u001b[33;43m'\u001b[39;49m\u001b[33;43mprclag\u001b[39;49m\u001b[33;43m'\u001b[39;49m\u001b[43m]\u001b[49m = df.groupby(\u001b[33m'\u001b[39m\u001b[33mpermno\u001b[39m\u001b[33m'\u001b[39m)[\u001b[33m'\u001b[39m\u001b[33mprc\u001b[39m\u001b[33m'\u001b[39m].shift()\n\u001b[32m      2\u001b[39m df[\u001b[33m'\u001b[39m\u001b[33mmelag\u001b[39m\u001b[33m'\u001b[39m] = df.groupby(\u001b[33m'\u001b[39m\u001b[33mpermno\u001b[39m\u001b[33m'\u001b[39m)[\u001b[33m'\u001b[39m\u001b[33mme\u001b[39m\u001b[33m'\u001b[39m].shift()\n\u001b[32m      3\u001b[39m df[\u001b[33m'\u001b[39m\u001b[33mcashtoasset\u001b[39m\u001b[33m'\u001b[39m] = df[\u001b[33m\"\u001b[39m\u001b[33mcash\u001b[39m\u001b[33m\"\u001b[39m] / df[\u001b[33m\"\u001b[39m\u001b[33massets\u001b[39m\u001b[33m\"\u001b[39m]\n",
      "\u001b[36mFile \u001b[39m\u001b[32m~/Desktop/BotQ2025/.venv/lib/python3.12/site-packages/pandas/core/frame.py:4311\u001b[39m, in \u001b[36mDataFrame.__setitem__\u001b[39m\u001b[34m(self, key, value)\u001b[39m\n\u001b[32m   4308\u001b[39m     \u001b[38;5;28mself\u001b[39m._setitem_array([key], value)\n\u001b[32m   4309\u001b[39m \u001b[38;5;28;01melse\u001b[39;00m:\n\u001b[32m   4310\u001b[39m     \u001b[38;5;66;03m# set column\u001b[39;00m\n\u001b[32m-> \u001b[39m\u001b[32m4311\u001b[39m     \u001b[38;5;28;43mself\u001b[39;49m\u001b[43m.\u001b[49m\u001b[43m_set_item\u001b[49m\u001b[43m(\u001b[49m\u001b[43mkey\u001b[49m\u001b[43m,\u001b[49m\u001b[43m \u001b[49m\u001b[43mvalue\u001b[49m\u001b[43m)\u001b[49m\n",
      "\u001b[36mFile \u001b[39m\u001b[32m~/Desktop/BotQ2025/.venv/lib/python3.12/site-packages/pandas/core/frame.py:4538\u001b[39m, in \u001b[36mDataFrame._set_item\u001b[39m\u001b[34m(self, key, value)\u001b[39m\n\u001b[32m   4535\u001b[39m             value = np.tile(value, (\u001b[38;5;28mlen\u001b[39m(existing_piece.columns), \u001b[32m1\u001b[39m)).T\n\u001b[32m   4536\u001b[39m             refs = \u001b[38;5;28;01mNone\u001b[39;00m\n\u001b[32m-> \u001b[39m\u001b[32m4538\u001b[39m \u001b[38;5;28;43mself\u001b[39;49m\u001b[43m.\u001b[49m\u001b[43m_set_item_mgr\u001b[49m\u001b[43m(\u001b[49m\u001b[43mkey\u001b[49m\u001b[43m,\u001b[49m\u001b[43m \u001b[49m\u001b[43mvalue\u001b[49m\u001b[43m,\u001b[49m\u001b[43m \u001b[49m\u001b[43mrefs\u001b[49m\u001b[43m)\u001b[49m\n",
      "\u001b[36mFile \u001b[39m\u001b[32m~/Desktop/BotQ2025/.venv/lib/python3.12/site-packages/pandas/core/frame.py:4485\u001b[39m, in \u001b[36mDataFrame._set_item_mgr\u001b[39m\u001b[34m(self, key, value, refs)\u001b[39m\n\u001b[32m   4481\u001b[39m \u001b[38;5;28;01mdef\u001b[39;00m\u001b[38;5;250m \u001b[39m\u001b[34m_set_item_mgr\u001b[39m(\n\u001b[32m   4482\u001b[39m     \u001b[38;5;28mself\u001b[39m, key, value: ArrayLike, refs: BlockValuesRefs | \u001b[38;5;28;01mNone\u001b[39;00m = \u001b[38;5;28;01mNone\u001b[39;00m\n\u001b[32m   4483\u001b[39m ) -> \u001b[38;5;28;01mNone\u001b[39;00m:\n\u001b[32m   4484\u001b[39m     \u001b[38;5;28;01mtry\u001b[39;00m:\n\u001b[32m-> \u001b[39m\u001b[32m4485\u001b[39m         loc = \u001b[38;5;28;43mself\u001b[39;49m\u001b[43m.\u001b[49m\u001b[43m_info_axis\u001b[49m\u001b[43m.\u001b[49m\u001b[43mget_loc\u001b[49m\u001b[43m(\u001b[49m\u001b[43mkey\u001b[49m\u001b[43m)\u001b[49m\n\u001b[32m   4486\u001b[39m     \u001b[38;5;28;01mexcept\u001b[39;00m \u001b[38;5;167;01mKeyError\u001b[39;00m:\n\u001b[32m   4487\u001b[39m         \u001b[38;5;66;03m# This item wasn't present, just insert at end\u001b[39;00m\n\u001b[32m   4488\u001b[39m         \u001b[38;5;28mself\u001b[39m._mgr.insert(\u001b[38;5;28mlen\u001b[39m(\u001b[38;5;28mself\u001b[39m._info_axis), key, value, refs)\n",
      "\u001b[36mFile \u001b[39m\u001b[32m~/Desktop/BotQ2025/.venv/lib/python3.12/site-packages/pandas/core/indexes/base.py:3808\u001b[39m, in \u001b[36mIndex.get_loc\u001b[39m\u001b[34m(self, key)\u001b[39m\n\u001b[32m   3805\u001b[39m     \u001b[38;5;28;01mreturn\u001b[39;00m \u001b[38;5;28mself\u001b[39m._engine.get_loc(casted_key)\n\u001b[32m   3806\u001b[39m \u001b[38;5;28;01mexcept\u001b[39;00m \u001b[38;5;167;01mKeyError\u001b[39;00m \u001b[38;5;28;01mas\u001b[39;00m err:\n\u001b[32m   3807\u001b[39m     \u001b[38;5;28;01mif\u001b[39;00m \u001b[38;5;28misinstance\u001b[39m(casted_key, \u001b[38;5;28mslice\u001b[39m) \u001b[38;5;129;01mor\u001b[39;00m (\n\u001b[32m-> \u001b[39m\u001b[32m3808\u001b[39m         \u001b[38;5;28;43misinstance\u001b[39;49m\u001b[43m(\u001b[49m\u001b[43mcasted_key\u001b[49m\u001b[43m,\u001b[49m\u001b[43m \u001b[49m\u001b[43mabc\u001b[49m\u001b[43m.\u001b[49m\u001b[43mIterable\u001b[49m\u001b[43m)\u001b[49m\n\u001b[32m   3809\u001b[39m         \u001b[38;5;129;01mand\u001b[39;00m \u001b[38;5;28many\u001b[39m(\u001b[38;5;28misinstance\u001b[39m(x, \u001b[38;5;28mslice\u001b[39m) \u001b[38;5;28;01mfor\u001b[39;00m x \u001b[38;5;129;01min\u001b[39;00m casted_key)\n\u001b[32m   3810\u001b[39m     ):\n\u001b[32m   3811\u001b[39m         \u001b[38;5;28;01mraise\u001b[39;00m InvalidIndexError(key)\n\u001b[32m   3812\u001b[39m     \u001b[38;5;28;01mraise\u001b[39;00m \u001b[38;5;167;01mKeyError\u001b[39;00m(key) \u001b[38;5;28;01mfrom\u001b[39;00m\u001b[38;5;250m \u001b[39m\u001b[34;01merr\u001b[39;00m\n",
      "\u001b[36mFile \u001b[39m\u001b[32m<frozen abc>:119\u001b[39m, in \u001b[36m__instancecheck__\u001b[39m\u001b[34m(cls, instance)\u001b[39m\n",
      "\u001b[31mKeyboardInterrupt\u001b[39m: "
     ]
    }
   ],
   "source": [
    "df['prclag'] = df.groupby('permno')['prc'].shift()\n",
    "df['melag'] = df.groupby('permno')['me'].shift()\n",
    "df['cashtoasset'] = df[\"cash\"] / df[\"assets\"]\n",
    "df['currenttoasset'] = df[\"current\"] / df[\"assets\"]\n",
    "df.drop(columns=[\"cash\", \"current\", \"assets\"])\n",
    "\n",
    "df = df.query(\"mom == mom and prclag >= 5\").reset_index(drop=True)"
   ]
  },
  {
   "cell_type": "code",
   "execution_count": null,
   "id": "d9df7296",
   "metadata": {},
   "outputs": [],
   "source": [
    "df[\"mom_first\"] = df.groupby('caldt')['mom'].transform(pd.qcut,5,labels=[str(k) for k in range(1, 6)])\n",
    "df[\"cashtoasset_first\"] = df.groupby('caldt')['cashtoasset'].transform(pd.qcut,5,labels=[\"a\", \"b\", \"c\", \"d\", \"e\"])\n",
    "df[\"currenttoasset_first\"] = df.groupby('caldt')['currenttoasset'].transform(pd.qcut,5,labels=[\"a\", \"b\", \"c\", \"d\", \"e\"])\n",
    "df[\"cashtoasset_second\"] = df.groupby(['caldt', 'mom_first'])['cashtoasset'].transform(pd.qcut,5,labels=[\"a\", \"b\", \"c\", \"d\", \"e\"])\n",
    "df[\"currenttoasset_second\"] = df.groupby(['caldt', 'mom_first'])['currenttoasset'].transform(pd.qcut,5,labels=[\"a\", \"b\", \"c\", \"d\", \"e\"])"
   ]
  },
  {
   "cell_type": "code",
   "execution_count": null,
   "id": "cb96f8f7",
   "metadata": {},
   "outputs": [
    {
     "ename": "NameError",
     "evalue": "name 'df' is not defined",
     "output_type": "error",
     "traceback": [
      "\u001b[31m---------------------------------------------------------------------------\u001b[39m",
      "\u001b[31mNameError\u001b[39m                                 Traceback (most recent call last)",
      "\u001b[36mCell\u001b[39m\u001b[36m \u001b[39m\u001b[32mIn[6]\u001b[39m\u001b[32m, line 1\u001b[39m\n\u001b[32m----> \u001b[39m\u001b[32m1\u001b[39m port = \u001b[43mdf\u001b[49m.groupby([\u001b[33m'\u001b[39m\u001b[33mcaldt\u001b[39m\u001b[33m'\u001b[39m,\u001b[33m'\u001b[39m\u001b[33mmom_first\u001b[39m\u001b[33m'\u001b[39m,\u001b[33m'\u001b[39m\u001b[33mcashtoasset_second\u001b[39m\u001b[33m'\u001b[39m])[\u001b[33m'\u001b[39m\u001b[33mret\u001b[39m\u001b[33m'\u001b[39m].mean()\n\u001b[32m      2\u001b[39m port = port.unstack(level=\u001b[33m'\u001b[39m\u001b[33mbins\u001b[39m\u001b[33m'\u001b[39m)\n",
      "\u001b[31mNameError\u001b[39m: name 'df' is not defined"
     ]
    }
   ],
   "source": [
    "# Equal weighted, cash to asset ratio\n",
    "port = df.groupby(['caldt','mom_first','cashtoasset_second'])['ret'].mean()\n",
    "port = port.unstack(level=['mom_first','cashtoasset_second'])\n",
    "print('Summary statistics from month to month, mom-cashasset:')\n",
    "summary(port).round(4)"
   ]
  },
  {
   "cell_type": "code",
   "execution_count": null,
   "id": "bbff699b",
   "metadata": {},
   "outputs": [],
   "source": []
  }
 ],
 "metadata": {
  "kernelspec": {
   "display_name": ".venv",
   "language": "python",
   "name": "python3"
  },
  "language_info": {
   "codemirror_mode": {
    "name": "ipython",
    "version": 3
   },
   "file_extension": ".py",
   "mimetype": "text/x-python",
   "name": "python",
   "nbconvert_exporter": "python",
   "pygments_lexer": "ipython3",
   "version": "3.12.6"
  }
 },
 "nbformat": 4,
 "nbformat_minor": 5
}
