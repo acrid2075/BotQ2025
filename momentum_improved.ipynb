{
 "cells": [
  {
   "cell_type": "code",
   "execution_count": 5,
   "id": "ef98f935",
   "metadata": {},
   "outputs": [
    {
     "name": "stdout",
     "output_type": "stream",
     "text": [
      "Collecting finance_byu\n",
      "  Using cached finance_byu-0.2.0-py3-none-any.whl.metadata (1.3 kB)\n",
      "Requirement already satisfied: numpy in ./.venv/lib/python3.12/site-packages (from finance_byu) (2.3.3)\n",
      "Requirement already satisfied: pandas in ./.venv/lib/python3.12/site-packages (from finance_byu) (2.3.2)\n",
      "Collecting joblib (from finance_byu)\n",
      "  Using cached joblib-1.5.2-py3-none-any.whl.metadata (5.6 kB)\n",
      "Collecting statsmodels (from finance_byu)\n",
      "  Downloading statsmodels-0.14.5-cp312-cp312-macosx_11_0_arm64.whl.metadata (9.5 kB)\n",
      "Collecting numba (from finance_byu)\n",
      "  Downloading numba-0.62.0-cp312-cp312-macosx_11_0_arm64.whl.metadata (2.8 kB)\n",
      "Collecting scipy (from finance_byu)\n",
      "  Downloading scipy-1.16.2-cp312-cp312-macosx_14_0_arm64.whl.metadata (62 kB)\n",
      "Collecting patsy (from finance_byu)\n",
      "  Using cached patsy-1.0.1-py2.py3-none-any.whl.metadata (3.3 kB)\n",
      "Collecting llvmlite<0.46,>=0.45.0dev0 (from numba->finance_byu)\n",
      "  Downloading llvmlite-0.45.0-cp312-cp312-macosx_11_0_arm64.whl.metadata (4.8 kB)\n",
      "Requirement already satisfied: python-dateutil>=2.8.2 in ./.venv/lib/python3.12/site-packages (from pandas->finance_byu) (2.9.0.post0)\n",
      "Requirement already satisfied: pytz>=2020.1 in ./.venv/lib/python3.12/site-packages (from pandas->finance_byu) (2025.2)\n",
      "Requirement already satisfied: tzdata>=2022.7 in ./.venv/lib/python3.12/site-packages (from pandas->finance_byu) (2025.2)\n",
      "Requirement already satisfied: six>=1.5 in ./.venv/lib/python3.12/site-packages (from python-dateutil>=2.8.2->pandas->finance_byu) (1.17.0)\n",
      "Requirement already satisfied: packaging>=21.3 in ./.venv/lib/python3.12/site-packages (from statsmodels->finance_byu) (25.0)\n",
      "Using cached finance_byu-0.2.0-py3-none-any.whl (16 kB)\n",
      "Using cached joblib-1.5.2-py3-none-any.whl (308 kB)\n",
      "Downloading numba-0.62.0-cp312-cp312-macosx_11_0_arm64.whl (2.7 MB)\n",
      "\u001b[2K   \u001b[90m━━━━━━━━━━━━━━━━━━━━━━━━━━━━━━━━━━━━━━━━\u001b[0m \u001b[32m2.7/2.7 MB\u001b[0m \u001b[31m24.7 MB/s\u001b[0m  \u001b[33m0:00:00\u001b[0m\n",
      "\u001b[?25hDownloading llvmlite-0.45.0-cp312-cp312-macosx_11_0_arm64.whl (37.3 MB)\n",
      "\u001b[2K   \u001b[90m━━━━━━━━━━━━━━━━━━━━━━━━━━━━━━━━━━━━━━━━\u001b[0m \u001b[32m37.3/37.3 MB\u001b[0m \u001b[31m63.0 MB/s\u001b[0m  \u001b[33m0:00:00\u001b[0m eta \u001b[36m0:00:01\u001b[0m\n",
      "\u001b[?25hUsing cached patsy-1.0.1-py2.py3-none-any.whl (232 kB)\n",
      "Downloading scipy-1.16.2-cp312-cp312-macosx_14_0_arm64.whl (20.9 MB)\n",
      "\u001b[2K   \u001b[90m━━━━━━━━━━━━━━━━━━━━━━━━━━━━━━━━━━━━━━━━\u001b[0m \u001b[32m20.9/20.9 MB\u001b[0m \u001b[31m80.1 MB/s\u001b[0m  \u001b[33m0:00:00\u001b[0m eta \u001b[36m0:00:01\u001b[0m\n",
      "\u001b[?25hDownloading statsmodels-0.14.5-cp312-cp312-macosx_11_0_arm64.whl (9.7 MB)\n",
      "\u001b[2K   \u001b[90m━━━━━━━━━━━━━━━━━━━━━━━━━━━━━━━━━━━━━━━━\u001b[0m \u001b[32m9.7/9.7 MB\u001b[0m \u001b[31m63.5 MB/s\u001b[0m  \u001b[33m0:00:00\u001b[0m\n",
      "\u001b[?25hInstalling collected packages: scipy, patsy, llvmlite, joblib, numba, statsmodels, finance_byu\n",
      "\u001b[2K   \u001b[90m━━━━━━━━━━━━━━━━━━━━━━━━━━━━━━━━━━━━━━━━\u001b[0m \u001b[32m7/7\u001b[0m [finance_byu]\u001b[0m [statsmodels]\n",
      "\u001b[1A\u001b[2KSuccessfully installed finance_byu-0.2.0 joblib-1.5.2 llvmlite-0.45.0 numba-0.62.0 patsy-1.0.1 scipy-1.16.2 statsmodels-0.14.5\n"
     ]
    }
   ],
   "source": [
    "import pandas as pd\n",
    "import numpy as np\n",
    "import os\n",
    "from dotenv import load_dotenv\n",
    "from finance_byu.summarize import summary\n",
    "\n",
    "load_dotenv()  # reads .env file\n",
    "SAVE_PATH = os.getenv(\"SAVE_PATH\")"
   ]
  },
  {
   "cell_type": "code",
   "execution_count": null,
   "id": "95d4838b",
   "metadata": {},
   "outputs": [],
   "source": [
    "df = pd.read_feather(SAVE_PATH)"
   ]
  },
  {
   "cell_type": "code",
   "execution_count": null,
   "id": "8fd998fd",
   "metadata": {},
   "outputs": [],
   "source": [
    "df['logret'] = np.log(1 + df['ret'])\n",
    "df['mom'] = df.groupby('permno')['logret'].rolling(6,6).sum().reset_index(drop=True)\n",
    "df['mom'] = df.groupby('permno')['mom'].shift(2)"
   ]
  },
  {
   "cell_type": "code",
   "execution_count": null,
   "id": "8dd3f242",
   "metadata": {},
   "outputs": [],
   "source": [
    "df['prclag'] = df.groupby('permno')['prc'].shift()\n",
    "df['melag'] = df.groupby('permno')['me'].shift()\n",
    "df['cashtoasset'] = df[\"cash\"] / df[\"assets\"]\n",
    "df['currenttoasset'] = df[\"current\"] / df[\"assets\"]\n",
    "df.drop(columns=[\"cash\", \"current\", \"assets\"])\n",
    "\n",
    "df = df.query(\"mom == mom and prclag >= 5\").reset_index(drop=True)"
   ]
  },
  {
   "cell_type": "code",
   "execution_count": null,
   "id": "d9df7296",
   "metadata": {},
   "outputs": [],
   "source": [
    "df[\"mom_first\"] = df.groupby('caldt')['mom'].transform(pd.qcut,5,labels=[str(k) for k in range(1, 6)])\n",
    "df[\"cashtoasset_first\"] = df.groupby('caldt')['cashtoasset'].transform(pd.qcut,5,labels=[\"a\", \"b\", \"c\", \"d\", \"e\"])\n",
    "df[\"currenttoasset_first\"] = df.groupby('caldt')['currenttoasset'].transform(pd.qcut,5,labels=[\"a\", \"b\", \"c\", \"d\", \"e\"])\n",
    "df[\"cashtoasset_second\"] = df.groupby(['caldt', 'mom_first'])['cashtoasset'].transform(pd.qcut,5,labels=[\"a\", \"b\", \"c\", \"d\", \"e\"])\n",
    "df[\"currenttoasset_second\"] = df.groupby(['caldt', 'mom_first'])['currenttoasset'].transform(pd.qcut,5,labels=[\"a\", \"b\", \"c\", \"d\", \"e\"])"
   ]
  },
  {
   "cell_type": "code",
   "execution_count": null,
   "id": "cb96f8f7",
   "metadata": {},
   "outputs": [
    {
     "ename": "NameError",
     "evalue": "name 'df' is not defined",
     "output_type": "error",
     "traceback": [
      "\u001b[31m---------------------------------------------------------------------------\u001b[39m",
      "\u001b[31mNameError\u001b[39m                                 Traceback (most recent call last)",
      "\u001b[36mCell\u001b[39m\u001b[36m \u001b[39m\u001b[32mIn[6]\u001b[39m\u001b[32m, line 1\u001b[39m\n\u001b[32m----> \u001b[39m\u001b[32m1\u001b[39m port = \u001b[43mdf\u001b[49m.groupby([\u001b[33m'\u001b[39m\u001b[33mcaldt\u001b[39m\u001b[33m'\u001b[39m,\u001b[33m'\u001b[39m\u001b[33mmom_first\u001b[39m\u001b[33m'\u001b[39m,\u001b[33m'\u001b[39m\u001b[33mcashtoasset_second\u001b[39m\u001b[33m'\u001b[39m])[\u001b[33m'\u001b[39m\u001b[33mret\u001b[39m\u001b[33m'\u001b[39m].mean()\n\u001b[32m      2\u001b[39m port = port.unstack(level=\u001b[33m'\u001b[39m\u001b[33mbins\u001b[39m\u001b[33m'\u001b[39m)\n",
      "\u001b[31mNameError\u001b[39m: name 'df' is not defined"
     ]
    }
   ],
   "source": [
    "# Equal weighted, cash to asset ratio\n",
    "port = df.groupby(['caldt','mom_first','cashtoasset_second'])['ret'].mean()\n",
    "port = port.unstack(level=['mom_first','cashtoasset_second'])\n",
    "print('Summary statistics from month to month, mom-cashasset:')\n",
    "summary(port).round(4)"
   ]
  },
  {
   "cell_type": "code",
   "execution_count": null,
   "id": "bbff699b",
   "metadata": {},
   "outputs": [],
   "source": []
  }
 ],
 "metadata": {
  "kernelspec": {
   "display_name": ".venv",
   "language": "python",
   "name": "python3"
  },
  "language_info": {
   "codemirror_mode": {
    "name": "ipython",
    "version": 3
   },
   "file_extension": ".py",
   "mimetype": "text/x-python",
   "name": "python",
   "nbconvert_exporter": "python",
   "pygments_lexer": "ipython3",
   "version": "3.12.6"
  }
 },
 "nbformat": 4,
 "nbformat_minor": 5
}
